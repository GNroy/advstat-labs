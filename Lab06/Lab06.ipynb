{
 "cells": [
  {
   "cell_type": "code",
   "execution_count": 10,
   "metadata": {
    "collapsed": false
   },
   "outputs": [],
   "source": [
    "from scipy.stats import kstest\n",
    "import numpy as np"
   ]
  },
  {
   "cell_type": "code",
   "execution_count": 6,
   "metadata": {
    "collapsed": false
   },
   "outputs": [],
   "source": [
    "N = 1000\n",
    "normal = np.random.standard_normal(size=N)\n",
    "double_exponential = np.random.laplace(size=N)\n",
    "t = np.random.standard_t(3, size=N)\n",
    "lognormal = np.random.lognormal(size=N)"
   ]
  },
  {
   "cell_type": "code",
   "execution_count": 25,
   "metadata": {
    "collapsed": false
   },
   "outputs": [
    {
     "data": {
      "text/plain": [
       "(0.13456041758650139, 0.52212055425168735, 0.24414868616359575)"
      ]
     },
     "execution_count": 25,
     "metadata": {},
     "output_type": "execute_result"
    }
   ],
   "source": [
    "kstest_normal = kstest(normal, 'norm', N=N)\n",
    "kstest_double_exponential = kstest(double_exponential, 'laplace', N=N)\n",
    "kstest_t = kstest(t, 't', N=N, args=[3])\n",
    "#kstest_lognormal = kstest(lognormal, 'lognorm', N=N) # problem with args\n",
    "kstest_normal.pvalue, kstest_double_exponential.pvalue, kstest_t.pvalue"
   ]
  },
  {
   "cell_type": "code",
   "execution_count": null,
   "metadata": {
    "collapsed": true
   },
   "outputs": [],
   "source": [
    "data = np.loadtxt('dataset1.txt')\n",
    "data"
   ]
  }
 ],
 "metadata": {
  "kernelspec": {
   "display_name": "Python 3",
   "language": "python",
   "name": "python3"
  },
  "language_info": {
   "codemirror_mode": {
    "name": "ipython",
    "version": 3
   },
   "file_extension": ".py",
   "mimetype": "text/x-python",
   "name": "python",
   "nbconvert_exporter": "python",
   "pygments_lexer": "ipython3",
   "version": "3.6.0"
  }
 },
 "nbformat": 4,
 "nbformat_minor": 2
}
